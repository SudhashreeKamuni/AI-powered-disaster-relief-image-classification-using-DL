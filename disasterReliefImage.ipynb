{
 "cells": [
  {
   "cell_type": "code",
   "execution_count": 1,
   "id": "d7fd3d88",
   "metadata": {},
   "outputs": [],
   "source": [
    "import pandas as pd                  #for data handling\n",
    "import numpy as np\n",
    "import os\n",
    "from PIL import Image                # For image loading\n",
    "import matplotlib.pyplot as plt\n",
    "import seaborn as sns\n",
    "from tqdm.notebook import tqdm       # For nice progress bars in notebooks\n",
    "\n",
    "                                     # PyTorch specific imports\n",
    "import torch\n",
    "from torch.utils.data import Dataset, DataLoader\n",
    "from torchvision import transforms\n"
   ]
  },
  {
   "cell_type": "code",
   "execution_count": 2,
   "id": "e0cbf53a",
   "metadata": {},
   "outputs": [
    {
     "name": "stdout",
     "output_type": "stream",
     "text": [
      "Checking if our 'treasure map' points to real places:\n",
      "Is the 'data' folder there? True\n",
      "Is the 'train.tsv' file there? True\n",
      "Is the 'dev.tsv' file there? True\n",
      "Is the 'test.tsv' file there? True\n"
     ]
    }
   ],
   "source": [
    "BASE_DIR = 'C:\\sudha files\\jupyterNB\\MEDIC'\n",
    "\n",
    "IMAGE_DIR = os.path.join(BASE_DIR , 'data')\n",
    "TRAIN_TSV = os.path.join(BASE_DIR , 'MEDIC_train.tsv')\n",
    "DEV_TSV = os.path.join(BASE_DIR, 'MEDIC_dev.tsv')        # This file lists pictures for checking our AI during training\n",
    "TEST_TSV = os.path.join(BASE_DIR, 'MEDIC_test.tsv')      # This file lists pictures for the final test of our AI\n",
    "\n",
    "print(f\"Checking if our 'treasure map' points to real places:\")\n",
    "print(f\"Is the 'data' folder there? {os.path.exists(IMAGE_DIR)}\")\n",
    "print(f\"Is the 'train.tsv' file there? {os.path.exists(TRAIN_TSV)}\")\n",
    "print(f\"Is the 'dev.tsv' file there? {os.path.exists(DEV_TSV)}\")\n",
    "print(f\"Is the 'test.tsv' file there? {os.path.exists(TEST_TSV)}\")\n"
   ]
  },
  {
   "cell_type": "code",
   "execution_count": 3,
   "id": "9729a077",
   "metadata": {},
   "outputs": [
    {
     "name": "stdout",
     "output_type": "stream",
     "text": [
      "\n",
      "--- Loading our files (TSV) ---\n",
      "We have 49353 pictures to train our AI.\n",
      "We have 6157 pictures to check our AI while it's learning.\n",
      "We have 15688 pictures for the final test.\n",
      "\n",
      "--- Let's look at the first few lines of our training guide: ---\n",
      "     image_id                        event_name  \\\n",
      "0  ASONAM2017      ecuador_eq_severe_im_645.jpg   \n",
      "1  ASONAM2017     ecuador_eq_severe_im_1378.jpg   \n",
      "2  ASONAM2017  ecuador_eq_unlabelled_im_100.jpg   \n",
      "3  ASONAM2017       ecuador_eq_mild_im_2573.jpg   \n",
      "4  ASONAM2017  ecuador_eq_unlabelled_im_828.jpg   \n",
      "\n",
      "                                          image_path damage_severity  \\\n",
      "0  data/ASONAM17_Damage_Image_Dataset/ecuador_eq/...          severe   \n",
      "1  data/ASONAM17_Damage_Image_Dataset/ecuador_eq/...          severe   \n",
      "2  data/ASONAM17_Damage_Image_Dataset/ecuador_eq/...  little_or_none   \n",
      "3  data/ASONAM17_Damage_Image_Dataset/ecuador_eq/...            mild   \n",
      "4  data/ASONAM17_Damage_Image_Dataset/ecuador_eq/...  little_or_none   \n",
      "\n",
      "       informative                            humanitarian disaster_types  \n",
      "0      informative       infrastructure_and_utility_damage     earthquake  \n",
      "1      informative       infrastructure_and_utility_damage     earthquake  \n",
      "2  not_informative                        not_humanitarian     earthquake  \n",
      "3      informative         affected_injured_or_dead_people     earthquake  \n",
      "4      informative  rescue_volunteering_or_donation_effort     earthquake  \n",
      "            image_id            event_name  \\\n",
      "49348  aidr_old_data  913884208887681026_0   \n",
      "49349  aidr_old_data  920919996657754112_0   \n",
      "49350  aidr_old_data  792733160748511232_0   \n",
      "49351  aidr_old_data  909350585085730816_0   \n",
      "49352  aidr_old_data  908162813650194432_0   \n",
      "\n",
      "                                              image_path damage_severity  \\\n",
      "49348  data/aidr_info/human-induced_disaster/29_9_201...  little_or_none   \n",
      "49349  data/aidr_info/natural_disaster/19_10_2017/920...  little_or_none   \n",
      "49350  data/aidr_info/terremotoitalia/30_10_2016/7927...  little_or_none   \n",
      "49351  data/aidr_info/irma/17_9_2017/9093505850857308...  little_or_none   \n",
      "49352  data/aidr_info/security-incidents-activities/1...  little_or_none   \n",
      "\n",
      "           informative      humanitarian disaster_types  \n",
      "49348  not_informative  not_humanitarian   not_disaster  \n",
      "49349  not_informative  not_humanitarian   not_disaster  \n",
      "49350  not_informative  not_humanitarian   not_disaster  \n",
      "49351  not_informative  not_humanitarian   not_disaster  \n",
      "49352  not_informative  not_humanitarian   not_disaster  \n"
     ]
    }
   ],
   "source": [
    "print(\"\\n--- Loading our files (TSV) ---\")\n",
    "\n",
    "train_df = pd.read_csv(TRAIN_TSV, sep='\\t')\n",
    "dev_df = pd.read_csv(DEV_TSV, sep='\\t')\n",
    "test_df = pd.read_csv(TEST_TSV, sep='\\t')\n",
    "\n",
    "print(f\"We have {len(train_df)} pictures to train our AI.\")\n",
    "print(f\"We have {len(dev_df)} pictures to check our AI while it's learning.\")\n",
    "print(f\"We have {len(test_df)} pictures for the final test.\")\n",
    "\n",
    "print(\"\\n--- Let's look at the first few lines of our training guide: ---\")\n",
    "print(train_df.head())\n",
    "\n",
    "print(train_df.tail())"
   ]
  },
  {
   "cell_type": "code",
   "execution_count": 4,
   "id": "093e035c",
   "metadata": {},
   "outputs": [
    {
     "name": "stdout",
     "output_type": "stream",
     "text": [
      "<class 'pandas.core.frame.DataFrame'>\n",
      "RangeIndex: 49353 entries, 0 to 49352\n",
      "Data columns (total 7 columns):\n",
      " #   Column           Non-Null Count  Dtype \n",
      "---  ------           --------------  ----- \n",
      " 0   image_id         49353 non-null  object\n",
      " 1   event_name       49353 non-null  object\n",
      " 2   image_path       49353 non-null  object\n",
      " 3   damage_severity  49353 non-null  object\n",
      " 4   informative      49353 non-null  object\n",
      " 5   humanitarian     49353 non-null  object\n",
      " 6   disaster_types   49353 non-null  object\n",
      "dtypes: object(7)\n",
      "memory usage: 2.6+ MB\n"
     ]
    }
   ],
   "source": [
    "train_df.info()"
   ]
  },
  {
   "cell_type": "code",
   "execution_count": 5,
   "id": "2e082494",
   "metadata": {},
   "outputs": [
    {
     "data": {
      "text/html": [
       "<div>\n",
       "<style scoped>\n",
       "    .dataframe tbody tr th:only-of-type {\n",
       "        vertical-align: middle;\n",
       "    }\n",
       "\n",
       "    .dataframe tbody tr th {\n",
       "        vertical-align: top;\n",
       "    }\n",
       "\n",
       "    .dataframe thead th {\n",
       "        text-align: right;\n",
       "    }\n",
       "</style>\n",
       "<table border=\"1\" class=\"dataframe\">\n",
       "  <thead>\n",
       "    <tr style=\"text-align: right;\">\n",
       "      <th></th>\n",
       "      <th>image_id</th>\n",
       "      <th>event_name</th>\n",
       "      <th>image_path</th>\n",
       "      <th>damage_severity</th>\n",
       "      <th>informative</th>\n",
       "      <th>humanitarian</th>\n",
       "      <th>disaster_types</th>\n",
       "    </tr>\n",
       "  </thead>\n",
       "  <tbody>\n",
       "    <tr>\n",
       "      <th>count</th>\n",
       "      <td>15688</td>\n",
       "      <td>15688</td>\n",
       "      <td>15688</td>\n",
       "      <td>15688</td>\n",
       "      <td>15688</td>\n",
       "      <td>15688</td>\n",
       "      <td>15688</td>\n",
       "    </tr>\n",
       "    <tr>\n",
       "      <th>unique</th>\n",
       "      <td>5</td>\n",
       "      <td>15688</td>\n",
       "      <td>15688</td>\n",
       "      <td>3</td>\n",
       "      <td>2</td>\n",
       "      <td>4</td>\n",
       "      <td>7</td>\n",
       "    </tr>\n",
       "    <tr>\n",
       "      <th>top</th>\n",
       "      <td>CrisisMMD</td>\n",
       "      <td>damaged_infrastructure/images/buildingcollapse...</td>\n",
       "      <td>data/multimodal-deep-learning-disaster-respons...</td>\n",
       "      <td>little_or_none</td>\n",
       "      <td>not_informative</td>\n",
       "      <td>not_humanitarian</td>\n",
       "      <td>not_disaster</td>\n",
       "    </tr>\n",
       "    <tr>\n",
       "      <th>freq</th>\n",
       "      <td>4842</td>\n",
       "      <td>1</td>\n",
       "      <td>1</td>\n",
       "      <td>10252</td>\n",
       "      <td>8482</td>\n",
       "      <td>9145</td>\n",
       "      <td>8885</td>\n",
       "    </tr>\n",
       "  </tbody>\n",
       "</table>\n",
       "</div>"
      ],
      "text/plain": [
       "         image_id                                         event_name  \\\n",
       "count       15688                                              15688   \n",
       "unique          5                                              15688   \n",
       "top     CrisisMMD  damaged_infrastructure/images/buildingcollapse...   \n",
       "freq         4842                                                  1   \n",
       "\n",
       "                                               image_path damage_severity  \\\n",
       "count                                               15688           15688   \n",
       "unique                                              15688               3   \n",
       "top     data/multimodal-deep-learning-disaster-respons...  little_or_none   \n",
       "freq                                                    1           10252   \n",
       "\n",
       "            informative      humanitarian disaster_types  \n",
       "count             15688             15688          15688  \n",
       "unique                2                 4              7  \n",
       "top     not_informative  not_humanitarian   not_disaster  \n",
       "freq               8482              9145           8885  "
      ]
     },
     "execution_count": 5,
     "metadata": {},
     "output_type": "execute_result"
    }
   ],
   "source": [
    "train_df.describe()\n",
    "test_df.describe()"
   ]
  },
  {
   "cell_type": "code",
   "execution_count": 6,
   "id": "eaac6c18",
   "metadata": {},
   "outputs": [
    {
     "data": {
      "text/plain": [
       "image_id           0\n",
       "event_name         0\n",
       "image_path         0\n",
       "damage_severity    0\n",
       "informative        0\n",
       "humanitarian       0\n",
       "disaster_types     0\n",
       "dtype: int64"
      ]
     },
     "execution_count": 6,
     "metadata": {},
     "output_type": "execute_result"
    }
   ],
   "source": [
    "#checking whether our data has any null values\n",
    "train_df.isnull().sum()"
   ]
  },
  {
   "cell_type": "code",
   "execution_count": 7,
   "id": "055e99e3",
   "metadata": {},
   "outputs": [
    {
     "data": {
      "text/plain": [
       "(49353, 7)"
      ]
     },
     "execution_count": 7,
     "metadata": {},
     "output_type": "execute_result"
    }
   ],
   "source": [
    "# (rows , columns)\n",
    "train_df.shape\n",
    "#test_df.shape"
   ]
  },
  {
   "cell_type": "code",
   "execution_count": 8,
   "id": "1e0859bb",
   "metadata": {},
   "outputs": [
    {
     "data": {
      "text/plain": [
       "Index(['image_id', 'event_name', 'image_path', 'damage_severity',\n",
       "       'informative', 'humanitarian', 'disaster_types'],\n",
       "      dtype='object')"
      ]
     },
     "execution_count": 8,
     "metadata": {},
     "output_type": "execute_result"
    }
   ],
   "source": [
    "# attributes (columns) names\n",
    "train_df.columns"
   ]
  },
  {
   "cell_type": "code",
   "execution_count": 9,
   "id": "81f2c8cf",
   "metadata": {},
   "outputs": [
    {
     "name": "stdout",
     "output_type": "stream",
     "text": [
      "\n",
      "--- How many pictures do we have for each disaster type? (Training Set) ---\n",
      "disaster_types\n",
      "not_disaster      24459\n",
      "earthquake        12296\n",
      "hurricane          4517\n",
      "flood              3401\n",
      "other_disaster     1819\n",
      "fire               1796\n",
      "landslide          1065\n",
      "Name: count, dtype: int64\n"
     ]
    },
    {
     "data": {
      "image/png": "[encoded data removed]",
      "text/plain": [
       "<Figure size 1000x600 with 1 Axes>"
      ]
     },
     "metadata": {},
     "output_type": "display_data"
    },
    {
     "name": "stdout",
     "output_type": "stream",
     "text": [
      "\n",
      "All the unique disaster types we found: ['earthquake' 'other_disaster' 'not_disaster' 'hurricane' 'landslide'\n",
      " 'fire' 'flood']\n",
      "Our secret number code for each disaster: {'earthquake': 0, 'other_disaster': 1, 'not_disaster': 2, 'hurricane': 3, 'landslide': 4, 'fire': 5, 'flood': 6}\n",
      "\n",
      "--- Our training guide with the new secret numbers: ---\n",
      "     image_id                        event_name  \\\n",
      "0  ASONAM2017      ecuador_eq_severe_im_645.jpg   \n",
      "1  ASONAM2017     ecuador_eq_severe_im_1378.jpg   \n",
      "2  ASONAM2017  ecuador_eq_unlabelled_im_100.jpg   \n",
      "3  ASONAM2017       ecuador_eq_mild_im_2573.jpg   \n",
      "4  ASONAM2017  ecuador_eq_unlabelled_im_828.jpg   \n",
      "\n",
      "                                          image_path damage_severity  \\\n",
      "0  data/ASONAM17_Damage_Image_Dataset/ecuador_eq/...          severe   \n",
      "1  data/ASONAM17_Damage_Image_Dataset/ecuador_eq/...          severe   \n",
      "2  data/ASONAM17_Damage_Image_Dataset/ecuador_eq/...  little_or_none   \n",
      "3  data/ASONAM17_Damage_Image_Dataset/ecuador_eq/...            mild   \n",
      "4  data/ASONAM17_Damage_Image_Dataset/ecuador_eq/...  little_or_none   \n",
      "\n",
      "       informative                            humanitarian disaster_types  \\\n",
      "0      informative       infrastructure_and_utility_damage     earthquake   \n",
      "1      informative       infrastructure_and_utility_damage     earthquake   \n",
      "2  not_informative                        not_humanitarian     earthquake   \n",
      "3      informative         affected_injured_or_dead_people     earthquake   \n",
      "4      informative  rescue_volunteering_or_donation_effort     earthquake   \n",
      "\n",
      "   label_idx  \n",
      "0          0  \n",
      "1          0  \n",
      "2          0  \n",
      "3          0  \n",
      "4          0  \n"
     ]
    }
   ],
   "source": [
    "print(\"\\n--- How many pictures do we have for each disaster type? (Training Set) ---\")\n",
    "print(train_df['disaster_types'].value_counts()) # This counts how many times each unique 'label' appears\n",
    "\n",
    "# Let's draw a picture (a bar chart) to make it even clearer!\n",
    "plt.figure(figsize=(10, 6)) # Make the drawing space a good size\n",
    "sns.countplot(y='disaster_types', data=train_df, order=train_df['disaster_types'].value_counts().index)\n",
    "plt.title('Number of Pictures for Each Disaster Type (Training Set)') # Title for our drawing\n",
    "plt.xlabel('How Many Pictures') # Label for the bottom axis\n",
    "plt.ylabel('Disaster Type') # Label for the side axis\n",
    "plt.show()\n",
    "\n",
    "\n",
    "\n",
    "all_disaster_types = pd.concat([train_df['disaster_types'], dev_df['disaster_types'], test_df['disaster_types']]).unique()\n",
    "\n",
    "# Now, we create a little dictionary (like a mini-phonebook)\n",
    "# that maps each disaster name to a unique number.\n",
    "label_to_idx = {label: i for i, label in enumerate(all_disaster_types)}\n",
    "idx_to_label = {i: label for label, i in label_to_idx.items()}\n",
    "\n",
    "print(f\"\\nAll the unique disaster types we found: {all_disaster_types}\")\n",
    "print(f\"Our secret number code for each disaster: {label_to_idx}\")\n",
    "\n",
    "# Now, let's add these secret numbers to our flashcard guides!\n",
    "# --- FIX 4 & 5 & 6: Change 'label' to your actual column name ---\n",
    "train_df['label_idx'] = train_df['disaster_types'].map(label_to_idx)\n",
    "dev_df['label_idx'] = dev_df['disaster_types'].map(label_to_idx)\n",
    "test_df['label_idx'] = test_df['disaster_types'].map(label_to_idx)\n",
    "\n",
    "print(\"\\n--- Our training guide with the new secret numbers: ---\")\n",
    "print(train_df.head())"
   ]
  },
  {
   "cell_type": "code",
   "execution_count": 10,
   "id": "4ebe2a8e",
   "metadata": {},
   "outputs": [
    {
     "name": "stdout",
     "output_type": "stream",
     "text": [
      "\n",
      "--- Setting up how we prepare our pictures ---\n",
      "Picture preparation recipes are ready!\n"
     ]
    }
   ],
   "source": [
    "print(\"\\n--- Setting up how we prepare our pictures ---\")\n",
    "\n",
    "# Most common AI models (especially famous pre-trained ones) like pictures that are 224x224 pixels.\n",
    "image_size = 224\n",
    "\n",
    "# These are like recipes for preparing our pictures.\n",
    "# We have one recipe for training pictures and another for checking/testing pictures.\n",
    "data_transforms = {\n",
    "    'train': transforms.Compose([\n",
    "        # 1. Randomly cut a piece out of the picture and stretch/squash it to 224x224.\n",
    "        # This makes the AI see different parts of the image and at different scales.\n",
    "        transforms.RandomResizedCrop(image_size),\n",
    "        # 2. Sometimes flip the picture horizontally (left to right).\n",
    "        # A flood looks like a flood whether it's flipped or not!\n",
    "        transforms.RandomHorizontalFlip(),\n",
    "        # 3. Convert the picture into a special 'tensor' format that PyTorch AI understands.\n",
    "        # It also changes pixel values from 0-255 to 0-1.\n",
    "        transforms.ToTensor(),\n",
    "        # 4. Make the pixel values 'normal' using special numbers (mean and std).\n",
    "        # This is like adjusting the brightness and contrast consistently for all pictures.\n",
    "        # These specific numbers are used because many powerful AI models were first taught\n",
    "        # using pictures that were normalized with these values.\n",
    "        transforms.Normalize(mean=[0.485, 0.456, 0.406], std=[0.229, 0.224, 0.225])\n",
    "    ]),\n",
    "    'val': transforms.Compose([ # This recipe is for our checking/testing pictures. NO flipping or random changes here!\n",
    "        # 1. Resize the whole picture to 256 pixels on the shorter side.\n",
    "        transforms.Resize(256),\n",
    "        # 2. Cut out the exact center 224x224 part.\n",
    "        transforms.CenterCrop(image_size),\n",
    "        # 3. Convert to 'tensor' format.\n",
    "        transforms.ToTensor(),\n",
    "        # 4. Normalize with the same special numbers.\n",
    "        transforms.Normalize(mean=[0.485, 0.456, 0.406], std=[0.229, 0.224, 0.225])\n",
    "    ]),\n",
    "    'test': transforms.Compose([ # Same recipe for testing pictures as for checking pictures.\n",
    "        transforms.Resize(256),\n",
    "        transforms.CenterCrop(image_size),\n",
    "        transforms.ToTensor(),\n",
    "        transforms.Normalize(mean=[0.485, 0.456, 0.406], std=[0.229, 0.224, 0.225])\n",
    "    ])\n",
    "}\n",
    "print(\"Picture preparation recipes are ready!\")"
   ]
  },
  {
   "cell_type": "code",
   "execution_count": 28,
   "id": "519ba8d0",
   "metadata": {},
   "outputs": [
    {
     "name": "stdout",
     "output_type": "stream",
     "text": [
      "Our training flashcard set has: 49353 pictures.\n",
      "Our checking flashcard set has: 6157 pictures.\n",
      "Our final test flashcard set has: 15688 pictures.\n"
     ]
    }
   ],
   "source": [
    "class MEDICDataset(Dataset):\n",
    "    def __init__(self, dataframe, img_dir, transform=None):\n",
    "        self.dataframe = dataframe\n",
    "        self.img_dir = img_dir\n",
    "        self.transform = transform\n",
    "\n",
    "    def __len__(self):\n",
    "        return len(self.dataframe)\n",
    "\n",
    "    def __getitem__(self, idx):\n",
    "        # Use the full path from dataframe\n",
    "        img_path = self.dataframe.iloc[idx]['image_path']\n",
    "\n",
    "        # Ensure it points to the right root folder\n",
    "        if not os.path.isabs(img_path):\n",
    "            img_path = os.path.join(self.img_dir, img_path)\n",
    "\n",
    "        if not os.path.exists(img_path):\n",
    "            raise FileNotFoundError(f\"Could not find image at {img_path}\")\n",
    "\n",
    "        image = Image.open(img_path).convert('RGB')\n",
    "        label = self.dataframe.iloc[idx]['label_idx']\n",
    "\n",
    "        if self.transform:\n",
    "            image = self.transform(image)\n",
    "\n",
    "        return image, label\n",
    "\n",
    "\n",
    "\n",
    "# Now, let's make 3 actual helper robots, one for each set of flashcards:\n",
    "\n",
    "train_dataset = MEDICDataset(dataframe=train_df, img_dir=IMAGE_DIR, transform=data_transforms['train'])\n",
    "dev_dataset = MEDICDataset(dataframe=dev_df, img_dir=IMAGE_DIR, transform=data_transforms['val'])\n",
    "test_dataset = MEDICDataset(dataframe=test_df, img_dir=IMAGE_DIR, transform=data_transforms['test'])\n",
    "\n",
    "print(f\"Our training flashcard set has: {len(train_dataset)} pictures.\")\n",
    "print(f\"Our checking flashcard set has: {len(dev_dataset)} pictures.\")\n",
    "print(f\"Our final test flashcard set has: {len(test_dataset)} pictures.\")"
   ]
  },
  {
   "cell_type": "code",
   "execution_count": 23,
   "id": "98c8d6cc",
   "metadata": {},
   "outputs": [
    {
     "name": "stdout",
     "output_type": "stream",
     "text": [
      "\n",
      "--- Delivery Trucks are Ready with 32 flashcards per truck! ---\n",
      "Number of trucks for training: 1543\n",
      "Number of trucks for checking: 193\n",
      "Number of trucks for testing: 491\n"
     ]
    }
   ],
   "source": [
    "batch_size = 32\n",
    "num_workers = 4\n",
    "\n",
    "train_loader = DataLoader(train_dataset, batch_size=batch_size, shuffle=True, num_workers=num_workers, pin_memory=True)\n",
    "dev_loader = DataLoader(dev_dataset, batch_size=batch_size, shuffle=False, num_workers=num_workers, pin_memory=True)\n",
    "test_loader = DataLoader(test_dataset, batch_size=batch_size, shuffle=False, num_workers=num_workers, pin_memory=True)\n",
    "\n",
    "print(f\"\\n--- Delivery Trucks are Ready with {batch_size} flashcards per truck! ---\")\n",
    "print(f\"Number of trucks for training: {len(train_loader)}\")\n",
    "print(f\"Number of trucks for checking: {len(dev_loader)}\")\n",
    "print(f\"Number of trucks for testing: {len(test_loader)}\")"
   ]
  }
 ],
 "metadata": {
  "kernelspec": {
   "display_name": "Python 3",
   "language": "python",
   "name": "python3"
  },
  "language_info": {
   "codemirror_mode": {
    "name": "ipython",
    "version": 3
   },
   "file_extension": ".py",
   "mimetype": "text/x-python",
   "name": "python",
   "nbconvert_exporter": "python",
   "pygments_lexer": "ipython3",
   "version": "3.11.9"
  }
 },
 "nbformat": 4,
 "nbformat_minor": 5
}
